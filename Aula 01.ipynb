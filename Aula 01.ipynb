{
 "cells": [
  {
   "cell_type": "markdown",
   "id": "4a743209-9088-4eed-bf45-7beb46d16490",
   "metadata": {},
   "source": [
    "# __Imersão de Dados Alura - Aula 01__"
   ]
  },
  {
   "cell_type": "markdown",
   "id": "07707313-0b6a-4d92-a478-d26037f14f56",
   "metadata": {},
   "source": [
    "### Baixando os dados"
   ]
  },
  {
   "cell_type": "code",
   "execution_count": 13,
   "id": "401bb9d8-93f7-4001-9a3d-088790220222",
   "metadata": {},
   "outputs": [],
   "source": [
    "import pandas as pd"
   ]
  },
  {
   "cell_type": "code",
   "execution_count": 14,
   "id": "5a5602fc-3801-48e3-bd16-871967356c7f",
   "metadata": {},
   "outputs": [
    {
     "data": {
      "text/plain": [
       "(10008, 8)"
      ]
     },
     "execution_count": 14,
     "metadata": {},
     "output_type": "execute_result"
    }
   ],
   "source": [
    "URL = \"https://gist.githubusercontent.com/tgcsantos/3bdb29eba6ce391e90df2b72205ba891/raw/22fa920e80c9fa209a9fccc8b52d74cc95d1599b/dados_imoveis.csv\"\n",
    "\n",
    "dados_df = pd.read_csv(URL)\n",
    "dados_df.shape"
   ]
  },
  {
   "cell_type": "code",
   "execution_count": 17,
   "id": "d0f64bd9-7d0e-43e2-8d2f-9c8222fb1f52",
   "metadata": {},
   "outputs": [
    {
     "data": {
      "text/html": [
       "<div>\n",
       "<style scoped>\n",
       "    .dataframe tbody tr th:only-of-type {\n",
       "        vertical-align: middle;\n",
       "    }\n",
       "\n",
       "    .dataframe tbody tr th {\n",
       "        vertical-align: top;\n",
       "    }\n",
       "\n",
       "    .dataframe thead th {\n",
       "        text-align: right;\n",
       "    }\n",
       "</style>\n",
       "<table border=\"1\" class=\"dataframe\">\n",
       "  <thead>\n",
       "    <tr style=\"text-align: right;\">\n",
       "      <th></th>\n",
       "      <th>Rua</th>\n",
       "      <th>Bairro</th>\n",
       "      <th>Cidade</th>\n",
       "      <th>Metragem</th>\n",
       "      <th>Quartos</th>\n",
       "      <th>Banheiros</th>\n",
       "      <th>Vagas</th>\n",
       "      <th>Valor</th>\n",
       "    </tr>\n",
       "  </thead>\n",
       "  <tbody>\n",
       "    <tr>\n",
       "      <th>9475</th>\n",
       "      <td>Rua Cecília Bonilha</td>\n",
       "      <td>Vila Bonilha Nova</td>\n",
       "      <td>São Paulo</td>\n",
       "      <td>193</td>\n",
       "      <td>3</td>\n",
       "      <td>3</td>\n",
       "      <td>5</td>\n",
       "      <td>R$ 749.870</td>\n",
       "    </tr>\n",
       "    <tr>\n",
       "      <th>6836</th>\n",
       "      <td>Rua Desembargador Vicente Penteado</td>\n",
       "      <td>Jardim América</td>\n",
       "      <td>São Paulo</td>\n",
       "      <td>358</td>\n",
       "      <td>3</td>\n",
       "      <td>5</td>\n",
       "      <td>8</td>\n",
       "      <td>R$ 6.450.000</td>\n",
       "    </tr>\n",
       "    <tr>\n",
       "      <th>1492</th>\n",
       "      <td>NaN</td>\n",
       "      <td>Morumbi</td>\n",
       "      <td>São Paulo</td>\n",
       "      <td>716</td>\n",
       "      <td>4</td>\n",
       "      <td>5</td>\n",
       "      <td>6</td>\n",
       "      <td>R$ 5.300.000</td>\n",
       "    </tr>\n",
       "    <tr>\n",
       "      <th>7670</th>\n",
       "      <td>Rua Conde de Porto Alegre</td>\n",
       "      <td>Campo Belo</td>\n",
       "      <td>São Paulo</td>\n",
       "      <td>291</td>\n",
       "      <td>3</td>\n",
       "      <td>4</td>\n",
       "      <td>2</td>\n",
       "      <td>R$ 15.000\\n                      /Mês</td>\n",
       "    </tr>\n",
       "    <tr>\n",
       "      <th>7129</th>\n",
       "      <td>Rua Romão Puiggari</td>\n",
       "      <td>Vila Moraes</td>\n",
       "      <td>São Paulo</td>\n",
       "      <td>120</td>\n",
       "      <td>2</td>\n",
       "      <td>1</td>\n",
       "      <td>2</td>\n",
       "      <td>R$ 540.000</td>\n",
       "    </tr>\n",
       "    <tr>\n",
       "      <th>4877</th>\n",
       "      <td>NaN</td>\n",
       "      <td>Vila Bertioga</td>\n",
       "      <td>São Paulo</td>\n",
       "      <td>144</td>\n",
       "      <td>2</td>\n",
       "      <td>2</td>\n",
       "      <td>3</td>\n",
       "      <td>R$ 580.000</td>\n",
       "    </tr>\n",
       "    <tr>\n",
       "      <th>9040</th>\n",
       "      <td>Rua Inocêncio Nogueira</td>\n",
       "      <td>Cidade Jardim</td>\n",
       "      <td>São Paulo</td>\n",
       "      <td>480</td>\n",
       "      <td>4</td>\n",
       "      <td>5</td>\n",
       "      <td>4</td>\n",
       "      <td>R$ 4.700.000</td>\n",
       "    </tr>\n",
       "    <tr>\n",
       "      <th>635</th>\n",
       "      <td>Rua Manaus, 48</td>\n",
       "      <td>Vila Bertioga</td>\n",
       "      <td>São Paulo</td>\n",
       "      <td>455</td>\n",
       "      <td>3</td>\n",
       "      <td>2</td>\n",
       "      <td>4</td>\n",
       "      <td>R$ 1.600.000</td>\n",
       "    </tr>\n",
       "    <tr>\n",
       "      <th>5307</th>\n",
       "      <td>Rua Antônio Lourenço</td>\n",
       "      <td>Água Fria</td>\n",
       "      <td>São Paulo</td>\n",
       "      <td>242</td>\n",
       "      <td>4</td>\n",
       "      <td>5</td>\n",
       "      <td>2</td>\n",
       "      <td>R$ 1.300.000</td>\n",
       "    </tr>\n",
       "    <tr>\n",
       "      <th>7738</th>\n",
       "      <td>NaN</td>\n",
       "      <td>Belenzinho</td>\n",
       "      <td>São Paulo</td>\n",
       "      <td>335</td>\n",
       "      <td>2</td>\n",
       "      <td>1</td>\n",
       "      <td>4</td>\n",
       "      <td>R$ 950.000</td>\n",
       "    </tr>\n",
       "  </tbody>\n",
       "</table>\n",
       "</div>"
      ],
      "text/plain": [
       "                                     Rua             Bairro     Cidade  \\\n",
       "9475                 Rua Cecília Bonilha  Vila Bonilha Nova  São Paulo   \n",
       "6836  Rua Desembargador Vicente Penteado     Jardim América  São Paulo   \n",
       "1492                                 NaN            Morumbi  São Paulo   \n",
       "7670           Rua Conde de Porto Alegre         Campo Belo  São Paulo   \n",
       "7129                  Rua Romão Puiggari        Vila Moraes  São Paulo   \n",
       "4877                                 NaN      Vila Bertioga  São Paulo   \n",
       "9040              Rua Inocêncio Nogueira      Cidade Jardim  São Paulo   \n",
       "635                      Rua Manaus, 48       Vila Bertioga  São Paulo   \n",
       "5307                Rua Antônio Lourenço          Água Fria  São Paulo   \n",
       "7738                                 NaN         Belenzinho  São Paulo   \n",
       "\n",
       "      Metragem  Quartos  Banheiros  Vagas  \\\n",
       "9475       193        3          3      5   \n",
       "6836       358        3          5      8   \n",
       "1492       716        4          5      6   \n",
       "7670       291        3          4      2   \n",
       "7129       120        2          1      2   \n",
       "4877       144        2          2      3   \n",
       "9040       480        4          5      4   \n",
       "635        455        3          2      4   \n",
       "5307       242        4          5      2   \n",
       "7738       335        2          1      4   \n",
       "\n",
       "                                      Valor  \n",
       "9475                             R$ 749.870  \n",
       "6836                           R$ 6.450.000  \n",
       "1492                           R$ 5.300.000  \n",
       "7670  R$ 15.000\\n                      /Mês  \n",
       "7129                             R$ 540.000  \n",
       "4877                             R$ 580.000  \n",
       "9040                           R$ 4.700.000  \n",
       "635                            R$ 1.600.000  \n",
       "5307                           R$ 1.300.000  \n",
       "7738                             R$ 950.000  "
      ]
     },
     "execution_count": 17,
     "metadata": {},
     "output_type": "execute_result"
    }
   ],
   "source": [
    "dados_df.sample(10)"
   ]
  },
  {
   "cell_type": "code",
   "execution_count": 23,
   "id": "42e454cd-8e84-4e52-9ca0-638b359975c7",
   "metadata": {},
   "outputs": [
    {
     "name": "stdout",
     "output_type": "stream",
     "text": [
      "<class 'pandas.core.frame.DataFrame'>\n",
      "RangeIndex: 10008 entries, 0 to 10007\n",
      "Data columns (total 8 columns):\n",
      " #   Column     Non-Null Count  Dtype \n",
      "---  ------     --------------  ----- \n",
      " 0   Rua        6574 non-null   object\n",
      " 1   Bairro     9996 non-null   object\n",
      " 2   Cidade     10008 non-null  object\n",
      " 3   Metragem   10008 non-null  int64 \n",
      " 4   Quartos    10008 non-null  int64 \n",
      " 5   Banheiros  10008 non-null  int64 \n",
      " 6   Vagas      10008 non-null  int64 \n",
      " 7   Valor      10008 non-null  object\n",
      "dtypes: int64(4), object(4)\n",
      "memory usage: 625.6+ KB\n"
     ]
    }
   ],
   "source": [
    "dados_df.info()"
   ]
  },
  {
   "cell_type": "code",
   "execution_count": 24,
   "id": "34822197-a790-429a-8ffe-11c0c67ead15",
   "metadata": {},
   "outputs": [
    {
     "data": {
      "text/plain": [
       "442.30065947242207"
      ]
     },
     "execution_count": 24,
     "metadata": {},
     "output_type": "execute_result"
    }
   ],
   "source": [
    "dados_df[\"Metragem\"].mean()"
   ]
  },
  {
   "cell_type": "code",
   "execution_count": 28,
   "id": "4a693a5f-9703-444f-9934-3f83ec642912",
   "metadata": {},
   "outputs": [
    {
     "data": {
      "text/plain": [
       "290.0"
      ]
     },
     "execution_count": 28,
     "metadata": {},
     "output_type": "execute_result"
    }
   ],
   "source": [
    "dados_df[\"Metragem\"].median()"
   ]
  },
  {
   "cell_type": "code",
   "execution_count": 33,
   "id": "20175d98-b123-44fb-879a-d814f9478805",
   "metadata": {},
   "outputs": [],
   "source": [
    "imoveis_vila_mariana = dados_df[dados_df[\"Bairro\"]==\"Vila Mariana\"]"
   ]
  },
  {
   "cell_type": "code",
   "execution_count": 34,
   "id": "723e3f82-5052-4bbe-af77-0138038340c5",
   "metadata": {},
   "outputs": [
    {
     "data": {
      "text/plain": [
       "233.6195652173913"
      ]
     },
     "execution_count": 34,
     "metadata": {},
     "output_type": "execute_result"
    }
   ],
   "source": [
    "imoveis_vila_mariana[\"Metragem\"].mean()"
   ]
  },
  {
   "cell_type": "code",
   "execution_count": 37,
   "id": "df3ceca3-ee18-4090-a5b0-6efa48e0f4bd",
   "metadata": {},
   "outputs": [
    {
     "data": {
      "text/plain": [
       "Alto de Pinheiros     409\n",
       "Jardim Guedala        403\n",
       "Jardim Paulista       309\n",
       "Brooklin Paulista     247\n",
       "Jardim Europa         240\n",
       "                     ... \n",
       "Jardim das Imbuias      1\n",
       "Vila Represa            1\n",
       "Vila Nancy              1\n",
       "Sítio Represa           1\n",
       "Vila Invernada          1\n",
       "Name: Bairro, Length: 701, dtype: int64"
      ]
     },
     "execution_count": 37,
     "metadata": {},
     "output_type": "execute_result"
    }
   ],
   "source": [
    "dados_df[\"Bairro\"].value_counts()"
   ]
  },
  {
   "cell_type": "code",
   "execution_count": 43,
   "id": "2832cc29-7abe-46c6-9648-3fbe9c915b3f",
   "metadata": {},
   "outputs": [
    {
     "data": {
      "text/plain": [
       "<AxesSubplot:>"
      ]
     },
     "execution_count": 43,
     "metadata": {},
     "output_type": "execute_result"
    },
    {
     "data": {
      "image/png": "[encoded data removed]",
      "text/plain": [
       "<Figure size 432x288 with 1 Axes>"
      ]
     },
     "metadata": {
      "needs_background": "light"
     },
     "output_type": "display_data"
    }
   ],
   "source": [
    "dados_df[\"Bairro\"].value_counts()[:10].plot.bar()"
   ]
  },
  {
   "cell_type": "markdown",
   "id": "77bb7d47-9dc1-4bce-b4eb-242cd85d2ba7",
   "metadata": {},
   "source": [
    "### __Desafio__"
   ]
  },
  {
   "cell_type": "markdown",
   "id": "4fe374d0-a931-44b5-ba34-fc0ea5180a67",
   "metadata": {},
   "source": [
    "1 - Media da metragem dos imóveis por bairro;\n",
    "\n",
    "2 - 2 formas de selecionar os dados por bairro;\n",
    "\n",
    "3 - Explorar alguns gráficos na documentação pandas plot e aplicar nas demais colunas do data frame;\n",
    "\n",
    "4 - Pegar outras estastíticas dos dados, média, mediana, max, min;\n",
    "\n",
    "5 - Descobrir quais são os bairros que não tem nome de ruas."
   ]
  },
  {
   "cell_type": "markdown",
   "id": "3d0ac606-2e53-49df-889a-33dc2942d92c",
   "metadata": {},
   "source": [
    "#### Desafio 1"
   ]
  },
  {
   "cell_type": "code",
   "execution_count": 52,
   "id": "8663df48-1ac5-4021-b20a-445ba384a621",
   "metadata": {},
   "outputs": [
    {
     "data": {
      "text/html": [
       "<div>\n",
       "<style scoped>\n",
       "    .dataframe tbody tr th:only-of-type {\n",
       "        vertical-align: middle;\n",
       "    }\n",
       "\n",
       "    .dataframe tbody tr th {\n",
       "        vertical-align: top;\n",
       "    }\n",
       "\n",
       "    .dataframe thead th {\n",
       "        text-align: right;\n",
       "    }\n",
       "</style>\n",
       "<table border=\"1\" class=\"dataframe\">\n",
       "  <thead>\n",
       "    <tr style=\"text-align: right;\">\n",
       "      <th></th>\n",
       "      <th>Metragem</th>\n",
       "    </tr>\n",
       "    <tr>\n",
       "      <th>Bairro</th>\n",
       "      <th></th>\n",
       "    </tr>\n",
       "  </thead>\n",
       "  <tbody>\n",
       "    <tr>\n",
       "      <th>Aclimação</th>\n",
       "      <td>253.056818</td>\n",
       "    </tr>\n",
       "    <tr>\n",
       "      <th>Alto da Boa Vista</th>\n",
       "      <td>418.875000</td>\n",
       "    </tr>\n",
       "    <tr>\n",
       "      <th>Alto da Lapa</th>\n",
       "      <td>294.337209</td>\n",
       "    </tr>\n",
       "    <tr>\n",
       "      <th>Alto da Mooca</th>\n",
       "      <td>270.050000</td>\n",
       "    </tr>\n",
       "    <tr>\n",
       "      <th>Alto de Pinheiros</th>\n",
       "      <td>433.444988</td>\n",
       "    </tr>\n",
       "    <tr>\n",
       "      <th>...</th>\n",
       "      <td>...</td>\n",
       "    </tr>\n",
       "    <tr>\n",
       "      <th>Vila Água Funda</th>\n",
       "      <td>152.200000</td>\n",
       "    </tr>\n",
       "    <tr>\n",
       "      <th>Água Branca</th>\n",
       "      <td>191.000000</td>\n",
       "    </tr>\n",
       "    <tr>\n",
       "      <th>Água Fria</th>\n",
       "      <td>165.416667</td>\n",
       "    </tr>\n",
       "    <tr>\n",
       "      <th>Água Funda</th>\n",
       "      <td>139.000000</td>\n",
       "    </tr>\n",
       "    <tr>\n",
       "      <th>Água Rasa</th>\n",
       "      <td>340.250000</td>\n",
       "    </tr>\n",
       "  </tbody>\n",
       "</table>\n",
       "<p>701 rows × 1 columns</p>\n",
       "</div>"
      ],
      "text/plain": [
       "                     Metragem\n",
       "Bairro                       \n",
       "Aclimação          253.056818\n",
       "Alto da Boa Vista  418.875000\n",
       "Alto da Lapa       294.337209\n",
       "Alto da Mooca      270.050000\n",
       "Alto de Pinheiros  433.444988\n",
       "...                       ...\n",
       "Vila Água Funda    152.200000\n",
       "Água Branca        191.000000\n",
       "Água Fria          165.416667\n",
       "Água Funda         139.000000\n",
       "Água Rasa          340.250000\n",
       "\n",
       "[701 rows x 1 columns]"
      ]
     },
     "execution_count": 52,
     "metadata": {},
     "output_type": "execute_result"
    }
   ],
   "source": [
    "dados_df.groupby([\"Bairro\"])[[\"Bairro\", \"Metragem\"]].mean()"
   ]
  },
  {
   "cell_type": "code",
   "execution_count": 72,
   "id": "0c9c7698-7418-4a34-991d-be3163044fb1",
   "metadata": {},
   "outputs": [
    {
     "data": {
      "text/plain": [
       "<AxesSubplot:ylabel='Bairro'>"
      ]
     },
     "execution_count": 72,
     "metadata": {},
     "output_type": "execute_result"
    },
    {
     "data": {
      "image/png": "[encoded data removed]",
      "text/plain": [
       "<Figure size 432x288 with 1 Axes>"
      ]
     },
     "metadata": {
      "needs_background": "light"
     },
     "output_type": "display_data"
    }
   ],
   "source": [
    "dados_df.groupby([\"Bairro\"])[[\"Bairro\", \"Metragem\"]].mean()[:15].plot.barh()"
   ]
  },
  {
   "cell_type": "markdown",
   "id": "7db61cd3-5c00-4ea8-85cd-0816a704a410",
   "metadata": {},
   "source": [
    "#### Desafio 2"
   ]
  },
  {
   "cell_type": "code",
   "execution_count": 53,
   "id": "cae55c0d-3451-4d2b-99a4-63f8e5633538",
   "metadata": {},
   "outputs": [
    {
     "data": {
      "text/html": [
       "<div>\n",
       "<style scoped>\n",
       "    .dataframe tbody tr th:only-of-type {\n",
       "        vertical-align: middle;\n",
       "    }\n",
       "\n",
       "    .dataframe tbody tr th {\n",
       "        vertical-align: top;\n",
       "    }\n",
       "\n",
       "    .dataframe thead th {\n",
       "        text-align: right;\n",
       "    }\n",
       "</style>\n",
       "<table border=\"1\" class=\"dataframe\">\n",
       "  <thead>\n",
       "    <tr style=\"text-align: right;\">\n",
       "      <th></th>\n",
       "      <th>Rua</th>\n",
       "      <th>Bairro</th>\n",
       "      <th>Cidade</th>\n",
       "      <th>Metragem</th>\n",
       "      <th>Quartos</th>\n",
       "      <th>Banheiros</th>\n",
       "      <th>Vagas</th>\n",
       "      <th>Valor</th>\n",
       "    </tr>\n",
       "  </thead>\n",
       "  <tbody>\n",
       "    <tr>\n",
       "      <th>100</th>\n",
       "      <td>Rua Pero Correia</td>\n",
       "      <td>Vila Mariana</td>\n",
       "      <td>São Paulo</td>\n",
       "      <td>250</td>\n",
       "      <td>3</td>\n",
       "      <td>3</td>\n",
       "      <td>1</td>\n",
       "      <td>R$ 1.350.000</td>\n",
       "    </tr>\n",
       "    <tr>\n",
       "      <th>120</th>\n",
       "      <td>Praça Doutor Carvalho Franco</td>\n",
       "      <td>Vila Mariana</td>\n",
       "      <td>São Paulo</td>\n",
       "      <td>250</td>\n",
       "      <td>3</td>\n",
       "      <td>5</td>\n",
       "      <td>2</td>\n",
       "      <td>R$ 2.450.000</td>\n",
       "    </tr>\n",
       "    <tr>\n",
       "      <th>155</th>\n",
       "      <td>Rua Professor João Marinho</td>\n",
       "      <td>Vila Mariana</td>\n",
       "      <td>São Paulo</td>\n",
       "      <td>170</td>\n",
       "      <td>3</td>\n",
       "      <td>4</td>\n",
       "      <td>2</td>\n",
       "      <td>R$ 1.490.000</td>\n",
       "    </tr>\n",
       "    <tr>\n",
       "      <th>160</th>\n",
       "      <td>NaN</td>\n",
       "      <td>Vila Mariana</td>\n",
       "      <td>São Paulo</td>\n",
       "      <td>228</td>\n",
       "      <td>4</td>\n",
       "      <td>5</td>\n",
       "      <td>3</td>\n",
       "      <td>R$ 2.200.000</td>\n",
       "    </tr>\n",
       "    <tr>\n",
       "      <th>334</th>\n",
       "      <td>Rua Pero Correia, 892</td>\n",
       "      <td>Vila Mariana</td>\n",
       "      <td>São Paulo</td>\n",
       "      <td>350</td>\n",
       "      <td>6</td>\n",
       "      <td>4</td>\n",
       "      <td>10</td>\n",
       "      <td>R$ 1.700.000</td>\n",
       "    </tr>\n",
       "    <tr>\n",
       "      <th>...</th>\n",
       "      <td>...</td>\n",
       "      <td>...</td>\n",
       "      <td>...</td>\n",
       "      <td>...</td>\n",
       "      <td>...</td>\n",
       "      <td>...</td>\n",
       "      <td>...</td>\n",
       "      <td>...</td>\n",
       "    </tr>\n",
       "    <tr>\n",
       "      <th>9645</th>\n",
       "      <td>Rua Sousa Ramos</td>\n",
       "      <td>Vila Mariana</td>\n",
       "      <td>São Paulo</td>\n",
       "      <td>285</td>\n",
       "      <td>3</td>\n",
       "      <td>5</td>\n",
       "      <td>5</td>\n",
       "      <td>R$ 1.650.000</td>\n",
       "    </tr>\n",
       "    <tr>\n",
       "      <th>9701</th>\n",
       "      <td>Rua Benito Juarez</td>\n",
       "      <td>Vila Mariana</td>\n",
       "      <td>São Paulo</td>\n",
       "      <td>171</td>\n",
       "      <td>3</td>\n",
       "      <td>2</td>\n",
       "      <td>4</td>\n",
       "      <td>R$ 1.650.000</td>\n",
       "    </tr>\n",
       "    <tr>\n",
       "      <th>9737</th>\n",
       "      <td>Rua Benito Juarez</td>\n",
       "      <td>Vila Mariana</td>\n",
       "      <td>São Paulo</td>\n",
       "      <td>171</td>\n",
       "      <td>3</td>\n",
       "      <td>2</td>\n",
       "      <td>4</td>\n",
       "      <td>R$ 1.650.000</td>\n",
       "    </tr>\n",
       "    <tr>\n",
       "      <th>9807</th>\n",
       "      <td>NaN</td>\n",
       "      <td>Vila Mariana</td>\n",
       "      <td>São Paulo</td>\n",
       "      <td>275</td>\n",
       "      <td>3</td>\n",
       "      <td>1</td>\n",
       "      <td>6</td>\n",
       "      <td>R$ 1.500.000</td>\n",
       "    </tr>\n",
       "    <tr>\n",
       "      <th>9852</th>\n",
       "      <td>Rua França Pinto</td>\n",
       "      <td>Vila Mariana</td>\n",
       "      <td>São Paulo</td>\n",
       "      <td>280</td>\n",
       "      <td>3</td>\n",
       "      <td>3</td>\n",
       "      <td>4</td>\n",
       "      <td>R$ 1.600.000</td>\n",
       "    </tr>\n",
       "  </tbody>\n",
       "</table>\n",
       "<p>184 rows × 8 columns</p>\n",
       "</div>"
      ],
      "text/plain": [
       "                               Rua        Bairro     Cidade  Metragem  \\\n",
       "100               Rua Pero Correia  Vila Mariana  São Paulo       250   \n",
       "120   Praça Doutor Carvalho Franco  Vila Mariana  São Paulo       250   \n",
       "155     Rua Professor João Marinho  Vila Mariana  São Paulo       170   \n",
       "160                            NaN  Vila Mariana  São Paulo       228   \n",
       "334         Rua Pero Correia, 892   Vila Mariana  São Paulo       350   \n",
       "...                            ...           ...        ...       ...   \n",
       "9645               Rua Sousa Ramos  Vila Mariana  São Paulo       285   \n",
       "9701             Rua Benito Juarez  Vila Mariana  São Paulo       171   \n",
       "9737             Rua Benito Juarez  Vila Mariana  São Paulo       171   \n",
       "9807                           NaN  Vila Mariana  São Paulo       275   \n",
       "9852              Rua França Pinto  Vila Mariana  São Paulo       280   \n",
       "\n",
       "      Quartos  Banheiros  Vagas         Valor  \n",
       "100         3          3      1  R$ 1.350.000  \n",
       "120         3          5      2  R$ 2.450.000  \n",
       "155         3          4      2  R$ 1.490.000  \n",
       "160         4          5      3  R$ 2.200.000  \n",
       "334         6          4     10  R$ 1.700.000  \n",
       "...       ...        ...    ...           ...  \n",
       "9645        3          5      5  R$ 1.650.000  \n",
       "9701        3          2      4  R$ 1.650.000  \n",
       "9737        3          2      4  R$ 1.650.000  \n",
       "9807        3          1      6  R$ 1.500.000  \n",
       "9852        3          3      4  R$ 1.600.000  \n",
       "\n",
       "[184 rows x 8 columns]"
      ]
     },
     "execution_count": 53,
     "metadata": {},
     "output_type": "execute_result"
    }
   ],
   "source": [
    "dados_df.query(\"Bairro == 'Vila Mariana'\")"
   ]
  },
  {
   "cell_type": "code",
   "execution_count": 51,
   "id": "03c3a3d7-f221-4d56-b883-8db680fb7708",
   "metadata": {},
   "outputs": [
    {
     "data": {
      "text/html": [
       "<div>\n",
       "<style scoped>\n",
       "    .dataframe tbody tr th:only-of-type {\n",
       "        vertical-align: middle;\n",
       "    }\n",
       "\n",
       "    .dataframe tbody tr th {\n",
       "        vertical-align: top;\n",
       "    }\n",
       "\n",
       "    .dataframe thead th {\n",
       "        text-align: right;\n",
       "    }\n",
       "</style>\n",
       "<table border=\"1\" class=\"dataframe\">\n",
       "  <thead>\n",
       "    <tr style=\"text-align: right;\">\n",
       "      <th></th>\n",
       "      <th>Rua</th>\n",
       "      <th>Bairro</th>\n",
       "      <th>Cidade</th>\n",
       "      <th>Metragem</th>\n",
       "      <th>Quartos</th>\n",
       "      <th>Banheiros</th>\n",
       "      <th>Vagas</th>\n",
       "      <th>Valor</th>\n",
       "    </tr>\n",
       "  </thead>\n",
       "  <tbody>\n",
       "    <tr>\n",
       "      <th>100</th>\n",
       "      <td>Rua Pero Correia</td>\n",
       "      <td>Vila Mariana</td>\n",
       "      <td>São Paulo</td>\n",
       "      <td>250</td>\n",
       "      <td>3</td>\n",
       "      <td>3</td>\n",
       "      <td>1</td>\n",
       "      <td>R$ 1.350.000</td>\n",
       "    </tr>\n",
       "    <tr>\n",
       "      <th>120</th>\n",
       "      <td>Praça Doutor Carvalho Franco</td>\n",
       "      <td>Vila Mariana</td>\n",
       "      <td>São Paulo</td>\n",
       "      <td>250</td>\n",
       "      <td>3</td>\n",
       "      <td>5</td>\n",
       "      <td>2</td>\n",
       "      <td>R$ 2.450.000</td>\n",
       "    </tr>\n",
       "    <tr>\n",
       "      <th>155</th>\n",
       "      <td>Rua Professor João Marinho</td>\n",
       "      <td>Vila Mariana</td>\n",
       "      <td>São Paulo</td>\n",
       "      <td>170</td>\n",
       "      <td>3</td>\n",
       "      <td>4</td>\n",
       "      <td>2</td>\n",
       "      <td>R$ 1.490.000</td>\n",
       "    </tr>\n",
       "    <tr>\n",
       "      <th>160</th>\n",
       "      <td>NaN</td>\n",
       "      <td>Vila Mariana</td>\n",
       "      <td>São Paulo</td>\n",
       "      <td>228</td>\n",
       "      <td>4</td>\n",
       "      <td>5</td>\n",
       "      <td>3</td>\n",
       "      <td>R$ 2.200.000</td>\n",
       "    </tr>\n",
       "    <tr>\n",
       "      <th>334</th>\n",
       "      <td>Rua Pero Correia, 892</td>\n",
       "      <td>Vila Mariana</td>\n",
       "      <td>São Paulo</td>\n",
       "      <td>350</td>\n",
       "      <td>6</td>\n",
       "      <td>4</td>\n",
       "      <td>10</td>\n",
       "      <td>R$ 1.700.000</td>\n",
       "    </tr>\n",
       "    <tr>\n",
       "      <th>...</th>\n",
       "      <td>...</td>\n",
       "      <td>...</td>\n",
       "      <td>...</td>\n",
       "      <td>...</td>\n",
       "      <td>...</td>\n",
       "      <td>...</td>\n",
       "      <td>...</td>\n",
       "      <td>...</td>\n",
       "    </tr>\n",
       "    <tr>\n",
       "      <th>9645</th>\n",
       "      <td>Rua Sousa Ramos</td>\n",
       "      <td>Vila Mariana</td>\n",
       "      <td>São Paulo</td>\n",
       "      <td>285</td>\n",
       "      <td>3</td>\n",
       "      <td>5</td>\n",
       "      <td>5</td>\n",
       "      <td>R$ 1.650.000</td>\n",
       "    </tr>\n",
       "    <tr>\n",
       "      <th>9701</th>\n",
       "      <td>Rua Benito Juarez</td>\n",
       "      <td>Vila Mariana</td>\n",
       "      <td>São Paulo</td>\n",
       "      <td>171</td>\n",
       "      <td>3</td>\n",
       "      <td>2</td>\n",
       "      <td>4</td>\n",
       "      <td>R$ 1.650.000</td>\n",
       "    </tr>\n",
       "    <tr>\n",
       "      <th>9737</th>\n",
       "      <td>Rua Benito Juarez</td>\n",
       "      <td>Vila Mariana</td>\n",
       "      <td>São Paulo</td>\n",
       "      <td>171</td>\n",
       "      <td>3</td>\n",
       "      <td>2</td>\n",
       "      <td>4</td>\n",
       "      <td>R$ 1.650.000</td>\n",
       "    </tr>\n",
       "    <tr>\n",
       "      <th>9807</th>\n",
       "      <td>NaN</td>\n",
       "      <td>Vila Mariana</td>\n",
       "      <td>São Paulo</td>\n",
       "      <td>275</td>\n",
       "      <td>3</td>\n",
       "      <td>1</td>\n",
       "      <td>6</td>\n",
       "      <td>R$ 1.500.000</td>\n",
       "    </tr>\n",
       "    <tr>\n",
       "      <th>9852</th>\n",
       "      <td>Rua França Pinto</td>\n",
       "      <td>Vila Mariana</td>\n",
       "      <td>São Paulo</td>\n",
       "      <td>280</td>\n",
       "      <td>3</td>\n",
       "      <td>3</td>\n",
       "      <td>4</td>\n",
       "      <td>R$ 1.600.000</td>\n",
       "    </tr>\n",
       "  </tbody>\n",
       "</table>\n",
       "<p>184 rows × 8 columns</p>\n",
       "</div>"
      ],
      "text/plain": [
       "                               Rua        Bairro     Cidade  Metragem  \\\n",
       "100               Rua Pero Correia  Vila Mariana  São Paulo       250   \n",
       "120   Praça Doutor Carvalho Franco  Vila Mariana  São Paulo       250   \n",
       "155     Rua Professor João Marinho  Vila Mariana  São Paulo       170   \n",
       "160                            NaN  Vila Mariana  São Paulo       228   \n",
       "334         Rua Pero Correia, 892   Vila Mariana  São Paulo       350   \n",
       "...                            ...           ...        ...       ...   \n",
       "9645               Rua Sousa Ramos  Vila Mariana  São Paulo       285   \n",
       "9701             Rua Benito Juarez  Vila Mariana  São Paulo       171   \n",
       "9737             Rua Benito Juarez  Vila Mariana  São Paulo       171   \n",
       "9807                           NaN  Vila Mariana  São Paulo       275   \n",
       "9852              Rua França Pinto  Vila Mariana  São Paulo       280   \n",
       "\n",
       "      Quartos  Banheiros  Vagas         Valor  \n",
       "100         3          3      1  R$ 1.350.000  \n",
       "120         3          5      2  R$ 2.450.000  \n",
       "155         3          4      2  R$ 1.490.000  \n",
       "160         4          5      3  R$ 2.200.000  \n",
       "334         6          4     10  R$ 1.700.000  \n",
       "...       ...        ...    ...           ...  \n",
       "9645        3          5      5  R$ 1.650.000  \n",
       "9701        3          2      4  R$ 1.650.000  \n",
       "9737        3          2      4  R$ 1.650.000  \n",
       "9807        3          1      6  R$ 1.500.000  \n",
       "9852        3          3      4  R$ 1.600.000  \n",
       "\n",
       "[184 rows x 8 columns]"
      ]
     },
     "execution_count": 51,
     "metadata": {},
     "output_type": "execute_result"
    }
   ],
   "source": [
    "dados_df.loc[dados_df[\"Bairro\"]==\"Vila Mariana\"]"
   ]
  },
  {
   "cell_type": "markdown",
   "id": "9496cf01-1a19-484d-8f40-4940ad218ff6",
   "metadata": {},
   "source": [
    "#### Desafio 3"
   ]
  },
  {
   "cell_type": "code",
   "execution_count": 64,
   "id": "765db9d6-8103-4bf1-a510-f6d4df7d1d40",
   "metadata": {},
   "outputs": [
    {
     "data": {
      "text/plain": [
       "<AxesSubplot:>"
      ]
     },
     "execution_count": 64,
     "metadata": {},
     "output_type": "execute_result"
    },
    {
     "data": {
      "image/png": "[encoded data removed]",
      "text/plain": [
       "<Figure size 432x288 with 1 Axes>"
      ]
     },
     "metadata": {
      "needs_background": "light"
     },
     "output_type": "display_data"
    }
   ],
   "source": [
    "dados_df[\"Quartos\"].hist()"
   ]
  },
  {
   "cell_type": "code",
   "execution_count": 66,
   "id": "67386ff8-d78f-4026-85d4-4660aaa1d2da",
   "metadata": {},
   "outputs": [
    {
     "data": {
      "text/plain": [
       "<AxesSubplot:>"
      ]
     },
     "execution_count": 66,
     "metadata": {},
     "output_type": "execute_result"
    },
    {
     "data": {
      "image/png": "[encoded data removed]",
      "text/plain": [
       "<Figure size 432x288 with 1 Axes>"
      ]
     },
     "metadata": {
      "needs_background": "light"
     },
     "output_type": "display_data"
    }
   ],
   "source": [
    "dados_df[[\"Quartos\"]].boxplot()"
   ]
  },
  {
   "cell_type": "code",
   "execution_count": 69,
   "id": "373f5664-0192-401a-abbc-ed31bb9cf063",
   "metadata": {},
   "outputs": [
    {
     "data": {
      "text/plain": [
       "<AxesSubplot:ylabel='Density'>"
      ]
     },
     "execution_count": 69,
     "metadata": {},
     "output_type": "execute_result"
    },
    {
     "data": {
      "image/png": "[encoded data removed]",
      "text/plain": [
       "<Figure size 432x288 with 1 Axes>"
      ]
     },
     "metadata": {
      "needs_background": "light"
     },
     "output_type": "display_data"
    }
   ],
   "source": [
    "dados_df[\"Banheiros\"].plot.density()"
   ]
  },
  {
   "cell_type": "markdown",
   "id": "0c0de3c4-103f-4c68-9f7f-d4c83655ec70",
   "metadata": {},
   "source": [
    "#### Desafio 4"
   ]
  },
  {
   "cell_type": "code",
   "execution_count": 74,
   "id": "19a00538-0a34-4e1b-ac4c-80e6a46d88a3",
   "metadata": {},
   "outputs": [
    {
     "data": {
      "text/plain": [
       "4.0"
      ]
     },
     "execution_count": 74,
     "metadata": {},
     "output_type": "execute_result"
    }
   ],
   "source": [
    "dados_df[\"Banheiros\"].median()"
   ]
  },
  {
   "cell_type": "code",
   "execution_count": 75,
   "id": "8616f03a-a6fd-4fcb-9753-5f05d8e02723",
   "metadata": {},
   "outputs": [
    {
     "data": {
      "text/plain": [
       "3.8790967226219024"
      ]
     },
     "execution_count": 75,
     "metadata": {},
     "output_type": "execute_result"
    }
   ],
   "source": [
    "dados_df[\"Banheiros\"].mean()"
   ]
  },
  {
   "cell_type": "code",
   "execution_count": 76,
   "id": "788e0358-7375-41f7-a422-1f8f639a7883",
   "metadata": {},
   "outputs": [
    {
     "data": {
      "text/plain": [
       "40"
      ]
     },
     "execution_count": 76,
     "metadata": {},
     "output_type": "execute_result"
    }
   ],
   "source": [
    "dados_df[\"Banheiros\"].max()"
   ]
  },
  {
   "cell_type": "code",
   "execution_count": 77,
   "id": "902ad67e-7149-4c86-a7d8-3ee0151307f0",
   "metadata": {},
   "outputs": [
    {
     "data": {
      "text/plain": [
       "1"
      ]
     },
     "execution_count": 77,
     "metadata": {},
     "output_type": "execute_result"
    }
   ],
   "source": [
    "dados_df[\"Banheiros\"].min()"
   ]
  },
  {
   "cell_type": "code",
   "execution_count": 78,
   "id": "c6dafcfc-6ef0-4ede-93eb-78b5a15577c4",
   "metadata": {},
   "outputs": [
    {
     "data": {
      "text/plain": [
       "1.5506931784707785"
      ]
     },
     "execution_count": 78,
     "metadata": {},
     "output_type": "execute_result"
    }
   ],
   "source": [
    "dados_df[\"Banheiros\"].mad()"
   ]
  },
  {
   "cell_type": "code",
   "execution_count": 79,
   "id": "f7298df1-2ab8-4572-a32c-a79f35b368c4",
   "metadata": {},
   "outputs": [
    {
     "data": {
      "text/plain": [
       "0    3\n",
       "Name: Banheiros, dtype: int64"
      ]
     },
     "execution_count": 79,
     "metadata": {},
     "output_type": "execute_result"
    }
   ],
   "source": [
    "dados_df[\"Banheiros\"].mode()"
   ]
  },
  {
   "cell_type": "markdown",
   "id": "f925ebdb-ffd7-429f-82fa-7998fa552262",
   "metadata": {},
   "source": [
    "#### Desafio 5"
   ]
  },
  {
   "cell_type": "code",
   "execution_count": 116,
   "id": "59c67021-00ae-4244-baea-46b1eb951cb9",
   "metadata": {},
   "outputs": [
    {
     "data": {
      "text/plain": [
       "Jardim Guedala                      190\n",
       "Alto de Pinheiros                   169\n",
       "Jardim Paulista                     138\n",
       "Jardim Europa                       128\n",
       "Jardim Leonor                       118\n",
       "                                   ... \n",
       "Jardim do Colégio (Zona Norte)        1\n",
       "Alto da Boa Vista                     1\n",
       "Jardim Aeroporto                      1\n",
       "Conjunto Residencial Vista Verde      1\n",
       "Jardim Santo Elias                    1\n",
       "Name: Bairro, Length: 394, dtype: int64"
      ]
     },
     "execution_count": 116,
     "metadata": {},
     "output_type": "execute_result"
    }
   ],
   "source": [
    "dados_df[dados_df[\"Rua\"].isna()][\"Bairro\"].value_counts()"
   ]
  },
  {
   "cell_type": "code",
   "execution_count": 118,
   "id": "461e6f56-f483-4a4b-a82b-4c741eaa8075",
   "metadata": {},
   "outputs": [
    {
     "data": {
      "text/plain": [
       "Alto de Pinheiros     409\n",
       "Jardim Guedala        403\n",
       "Jardim Paulista       309\n",
       "Brooklin Paulista     247\n",
       "Jardim Europa         240\n",
       "                     ... \n",
       "Jardim das Imbuias      1\n",
       "Vila Represa            1\n",
       "Vila Nancy              1\n",
       "Sítio Represa           1\n",
       "Vila Invernada          1\n",
       "Name: Bairro, Length: 701, dtype: int64"
      ]
     },
     "execution_count": 118,
     "metadata": {},
     "output_type": "execute_result"
    }
   ],
   "source": [
    "dados_df[\"Bairro\"].value_counts()"
   ]
  },
  {
   "cell_type": "code",
   "execution_count": 122,
   "id": "0232df96-8450-4a7f-92f2-d2572bd37ed0",
   "metadata": {},
   "outputs": [],
   "source": [
    "mask_sem_rua = dados_df[\"Bairro\"].value_counts()[dados_df[dados_df[\"Rua\"].isna()][\"Bairro\"].value_counts().index.tolist()] == dados_df[dados_df[\"Rua\"].isna()][\"Bairro\"].value_counts()"
   ]
  },
  {
   "cell_type": "code",
   "execution_count": 127,
   "id": "9d149b9c-e0ed-4c0f-bd5a-28d35625ae38",
   "metadata": {},
   "outputs": [
    {
     "data": {
      "text/plain": [
       "Jardim Guedala                      False\n",
       "Alto de Pinheiros                   False\n",
       "Jardim Paulista                     False\n",
       "Jardim Europa                       False\n",
       "Jardim Leonor                       False\n",
       "                                    ...  \n",
       "Jardim do Colégio (Zona Norte)      False\n",
       "Alto da Boa Vista                   False\n",
       "Jardim Aeroporto                    False\n",
       "Conjunto Residencial Vista Verde     True\n",
       "Jardim Santo Elias                   True\n",
       "Name: Bairro, Length: 394, dtype: bool"
      ]
     },
     "execution_count": 127,
     "metadata": {},
     "output_type": "execute_result"
    }
   ],
   "source": [
    "mask_sem_rua"
   ]
  },
  {
   "cell_type": "code",
   "execution_count": 128,
   "id": "9fb33e5a-f110-4cad-85bd-d3f2801afea0",
   "metadata": {},
   "outputs": [],
   "source": [
    "bairros_sem_rua = mask_sem_rua[mask_sem_rua.values==True].index.tolist()"
   ]
  },
  {
   "cell_type": "code",
   "execution_count": 129,
   "id": "745075c1-6658-42e1-af74-a3e6bc78448d",
   "metadata": {},
   "outputs": [
    {
     "data": {
      "text/plain": [
       "['Vila Mafra',\n",
       " 'Jardim Bélgica',\n",
       " 'Vila Sílvia',\n",
       " 'Vila Califórnia(Zona Sul)',\n",
       " 'Jardim Gonzaga',\n",
       " 'Vila Lageado',\n",
       " 'Vila Gea',\n",
       " 'Brasilândia',\n",
       " 'Vila Cláudia',\n",
       " 'Jardim Brasília (Zona Leste)',\n",
       " 'Jardim Dom Bosco',\n",
       " 'Vila Simone',\n",
       " 'Jardim Ester Yolanda',\n",
       " 'Vila Sao Paulo',\n",
       " 'Vila Londrina',\n",
       " 'Vila São Francisco',\n",
       " 'Praia Paulistinha',\n",
       " 'Vila Barbosa',\n",
       " 'Nova Piraju',\n",
       " 'Jardim Morro Verde',\n",
       " 'Água Funda',\n",
       " 'Jardim Analia Franco',\n",
       " 'Vila Paiva',\n",
       " 'Vila Romero',\n",
       " 'Cidade Antônio Estevão de Carvalho',\n",
       " 'Conjunto Habitacional Castro Alves',\n",
       " 'Jardim Cidalia',\n",
       " 'Parque Santo Antônio (Aricanduva)',\n",
       " 'Jardim Nice',\n",
       " 'Jardim Sabará',\n",
       " 'Jardim Tremembe',\n",
       " 'Jardim Guarau',\n",
       " 'Vila Elvira',\n",
       " 'Vila Ayrosa',\n",
       " 'Vila Bela Aliança',\n",
       " 'Vila Paulicéia',\n",
       " 'Parque Novo Mundo',\n",
       " 'Vila Nova Caledonia',\n",
       " 'Jardim Danfer',\n",
       " 'Vila Cardoso Franco',\n",
       " 'Jardim São Carlos (Zona Sul)',\n",
       " 'Vila Perus',\n",
       " 'Parque Residencial Oratorio',\n",
       " 'Jardim Satélite',\n",
       " 'Parada XV de Novembro',\n",
       " 'Jardim Santa Cruz (Campo Grande)',\n",
       " 'Aricanduva',\n",
       " 'Cidade Centenário',\n",
       " 'Jardim Rincão',\n",
       " 'Vila Carmosina',\n",
       " 'Jardim Palmares (Zona Sul)',\n",
       " 'Conjunto Residencial Morada do Sol',\n",
       " 'Jardim Sul São Paulo',\n",
       " 'Vila Aparecida',\n",
       " 'Vila Vasconcelos',\n",
       " 'Capão Redondo',\n",
       " 'Vila Darli',\n",
       " 'Jardim Itacolomi',\n",
       " 'Vila Prado',\n",
       " 'Jardim Guanca',\n",
       " 'Vila Ponte Rasa',\n",
       " 'Vila Nova Pauliceia',\n",
       " 'Jardim Independência',\n",
       " 'Vila Constancia',\n",
       " 'Parque Monteiro Soares',\n",
       " 'Vila Conde do Pinhal',\n",
       " 'Jardim Eliana',\n",
       " 'Jardim Rizzo',\n",
       " 'Vila Pedroso',\n",
       " 'Parque Maria Domitila',\n",
       " 'Jardim Pirituba',\n",
       " 'Jardim Petropolis',\n",
       " 'Vila Sabrina',\n",
       " 'Vila Analia',\n",
       " 'Jardim Castelo',\n",
       " 'Jardim Marília',\n",
       " 'Jardim Ponte Rasa',\n",
       " 'Jardim Monte Alegre',\n",
       " 'Vila Agueda',\n",
       " 'Vila Boaçava',\n",
       " 'Parque Santa Rita',\n",
       " 'Vila América',\n",
       " 'Parque Nações Unidas',\n",
       " 'Chácara Tatuapé',\n",
       " 'Vila Carbone',\n",
       " 'Vila Virginia',\n",
       " 'Jardim Camargo Novo',\n",
       " 'Jardim Planalto',\n",
       " 'Jardim das Camélias',\n",
       " 'Vila Salete',\n",
       " 'Jardim Célia (Zona Sul)',\n",
       " 'Jardim Floresta',\n",
       " 'Parque Guarani',\n",
       " 'Burgo Paulista',\n",
       " 'Parque Peruche',\n",
       " 'Conjunto Residencial Vista Verde',\n",
       " 'Jardim Santo Elias']"
      ]
     },
     "execution_count": 129,
     "metadata": {},
     "output_type": "execute_result"
    }
   ],
   "source": [
    "bairros_sem_rua"
   ]
  }
 ],
 "metadata": {
  "kernelspec": {
   "display_name": "Python 3 (ipykernel)",
   "language": "python",
   "name": "python3"
  },
  "language_info": {
   "codemirror_mode": {
    "name": "ipython",
    "version": 3
   },
   "file_extension": ".py",
   "mimetype": "text/x-python",
   "name": "python",
   "nbconvert_exporter": "python",
   "pygments_lexer": "ipython3",
   "version": "3.10.4"
  }
 },
 "nbformat": 4,
 "nbformat_minor": 5
}
